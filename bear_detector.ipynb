{
 "cells": [
  {
   "cell_type": "code",
   "execution_count": 1,
   "id": "fcbb8b25-a1ed-4b77-ad61-3709330dcbd5",
   "metadata": {},
   "outputs": [],
   "source": [
    "from fastai.vision.all import *\n",
    "from fastai.vision.widgets import *"
   ]
  },
  {
   "cell_type": "markdown",
   "id": "6a5149ec",
   "metadata": {},
   "source": [
    "# The Amazing Bear Classifier  \n",
    "You need to know whether you're being chased by a dangerous grizzly, or a sweet teddy bear, and you need an answer *fast*? Then you've come to the right place. Take pic of the potentially vicious killer, and click 'upload' to classify it. (Important: this only handles grizzly bears, black bears and teddy bears. It will not **not** give a sensible answer for polar bears, a bear market, a bear of a man, or hot dogs."
   ]
  },
  {
   "cell_type": "code",
   "execution_count": null,
   "id": "d72745bd",
   "metadata": {},
   "outputs": [],
   "source": [
    "import pathlib\n",
    "plt = platform.system()\n",
    "if plt == 'Linux':\n",
    "    pathlib."
   ]
  },
  {
   "cell_type": "code",
   "execution_count": 2,
   "id": "fd3008d7-334c-4a6b-8e40-40cf85ea2bea",
   "metadata": {},
   "outputs": [],
   "source": [
    "path = Path()\n",
    "btn_upload = widgets.FileUpload()\n",
    "out_pl = widgets.Output()\n",
    "lbl_pred = widgets.Label()"
   ]
  },
  {
   "cell_type": "code",
   "execution_count": 3,
   "id": "a2dcf8c5",
   "metadata": {},
   "outputs": [],
   "source": [
    "learn_inf = load_learner(path/'export.pkl', cpu = True)"
   ]
  },
  {
   "cell_type": "code",
   "execution_count": 4,
   "id": "3659a8c9-59f1-49d8-8ccb-5820b66b9a06",
   "metadata": {},
   "outputs": [],
   "source": [
    "def on_data_change(change):\n",
    "    lbl_pred.value = ''\n",
    "    img = PILImage.create(btn_upload.data[-1])\n",
    "    out_pl.clear_output()\n",
    "    with out_pl: display(img.to_thumb(128, 128))\n",
    "    pred, pred_idx, probs = learn_inf.predict(img)\n",
    "    lbl_pred.value = f'Prediction: {pred}; Probability: {probs[pred_idx]:.04f}'"
   ]
  },
  {
   "cell_type": "code",
   "execution_count": 5,
   "id": "e115bd18",
   "metadata": {},
   "outputs": [],
   "source": [
    "btn_upload.observe(on_data_change, names = ['data'])"
   ]
  },
  {
   "cell_type": "code",
   "execution_count": 6,
   "id": "868fe68d-37c7-4193-a238-9348cb4788b3",
   "metadata": {},
   "outputs": [
    {
     "data": {
      "application/vnd.jupyter.widget-view+json": {
       "model_id": "e4ca68a35fd9466aaed7481f3dd9ab14",
       "version_major": 2,
       "version_minor": 0
      },
      "text/plain": [
       "VBox(children=(Label(value='Select your bear!'), FileUpload(value={}, description='Upload'), Output(), Label(v…"
      ]
     },
     "metadata": {},
     "output_type": "display_data"
    },
    {
     "data": {
      "text/html": [
       "\n",
       "<style>\n",
       "    /* Turns off some styling */\n",
       "    progress {\n",
       "        /* gets rid of default border in Firefox and Opera. */\n",
       "        border: none;\n",
       "        /* Needs to be in here for Safari polyfill so background images work as expected. */\n",
       "        background-size: auto;\n",
       "    }\n",
       "    .progress-bar-interrupted, .progress-bar-interrupted::-webkit-progress-bar {\n",
       "        background: #F44336;\n",
       "    }\n",
       "</style>\n"
      ],
      "text/plain": [
       "<IPython.core.display.HTML object>"
      ]
     },
     "metadata": {},
     "output_type": "display_data"
    },
    {
     "data": {
      "text/html": [],
      "text/plain": [
       "<IPython.core.display.HTML object>"
      ]
     },
     "metadata": {},
     "output_type": "display_data"
    }
   ],
   "source": [
    "display(VBox([widgets.Label('Select your bear!'), btn_upload, out_pl, lbl_pred]))"
   ]
  },
  {
   "cell_type": "code",
   "execution_count": null,
   "id": "cc29188f-1abb-46af-b03c-b384e40d1a06",
   "metadata": {},
   "outputs": [],
   "source": []
  }
 ],
 "metadata": {
  "kernelspec": {
   "display_name": "Python [conda env:fastai] *",
   "language": "python",
   "name": "conda-env-fastai-py"
  },
  "language_info": {
   "codemirror_mode": {
    "name": "ipython",
    "version": 3
   },
   "file_extension": ".py",
   "mimetype": "text/x-python",
   "name": "python",
   "nbconvert_exporter": "python",
   "pygments_lexer": "ipython3",
   "version": "3.8.13"
  }
 },
 "nbformat": 4,
 "nbformat_minor": 5
}
